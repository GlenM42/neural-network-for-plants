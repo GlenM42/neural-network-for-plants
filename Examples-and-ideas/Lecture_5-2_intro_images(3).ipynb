{
 "cells": [
  {
   "cell_type": "markdown",
   "metadata": {},
   "source": [
    "# Processing images\n",
    "We are working with MNIST data set. It is built into Keras. The set contains handwritten letters and digits(see below), but we'll only take digits. Each image is 28 × 28 pixels. Of course there are 10 categories – digits 0 through 9.\n",
    "\n",
    "The problem: classify grayscale images of handwritten digits\n",
    "\n",
    "The a set contain of 60,000 training images, plus 10,000 test images, \n",
    "Assembled by the National Institute of Standards and Technology (the NIST in MNIST) in the 1980s.Here are some samples:"
   ]
  },
  {
   "cell_type": "code",
   "execution_count": 1,
   "metadata": {},
   "outputs": [
    {
     "data": {
      "image/jpeg": "[encoded data removed]",
      "text/plain": [
       "<IPython.core.display.Image object>"
      ]
     },
     "execution_count": 1,
     "metadata": {},
     "output_type": "execute_result"
    }
   ],
   "source": [
    "from IPython import display\n",
    "display.Image(\"https://i.stack.imgur.com/51MkY.jpg\")"
   ]
  },
  {
   "cell_type": "markdown",
   "metadata": {},
   "source": [
    "First with the dense neural net. Of course as always we first import packages. Models and layers from kkeras are (almost) always there if we are working on keras basis. Matplotlib also almost always necessary. "
   ]
  },
  {
   "cell_type": "code",
   "execution_count": 2,
   "metadata": {},
   "outputs": [
    {
     "name": "stderr",
     "output_type": "stream",
     "text": [
      "Using TensorFlow backend.\n"
     ]
    }
   ],
   "source": [
    "from keras.datasets import mnist\n",
    "from keras import models\n",
    "from keras import layers\n",
    "from keras.utils import to_categorical\n",
    "import matplotlib.pyplot as plt"
   ]
  },
  {
   "cell_type": "markdown",
   "metadata": {},
   "source": [
    "All packages are self-evident except for to_categorical from Keras.utils. It takes a vector of integers and converts into positional matrix of classes. Here is the example:"
   ]
  },
  {
   "cell_type": "code",
   "execution_count": null,
   "metadata": {},
   "outputs": [],
   "source": [
    "a = to_categorical([0, 1, 2, 3], num_classes=4)\n",
    "print(a)"
   ]
  },
  {
   "cell_type": "markdown",
   "metadata": {},
   "source": [
    "We first load and display data. Here we are initializing the plot using figure methods, and then create subplots inside using subplot method. Its arguments are number of subplost in terms of columns, number of rows. So the picture here contains 3 sublots vertically and horisontally, using i index. Each subplot will take the index position on a grid with 3 rows and 3 columns. Index starts at 1 in the upper left corner and increases to the right. Method tight_layout automatically adjusts subplot padding between and around images so that the subplot(s) fits into the figure area. I didn't define the area so it is default: figure dimension (width, height) in inches is (6.4, 4.8). Methods xticks, yticks without argument give current position, with arguments set position. "
   ]
  },
  {
   "cell_type": "code",
   "execution_count": null,
   "metadata": {},
   "outputs": [],
   "source": [
    "(train_images, train_labels), (test_images, test_labels) = mnist.load_data()\n",
    "fig = plt.figure()\n",
    "for i in range(9):\n",
    "    plt.subplot(3,3,i+1)\n",
    "    plt.tight_layout()\n",
    "    plt.imshow(train_images[i], cmap='gray', interpolation='none')\n",
    "    plt.title(\"Digit: {}\".format(train_labels[i]))\n",
    "    plt.xticks([])\n",
    "    plt.yticks([])\n",
    "plt.show()"
   ]
  },
  {
   "cell_type": "markdown",
   "metadata": {},
   "source": [
    "Plt.clf method is a clear function that clears plot - we do not need it anymore. Now what is the shape, type and type of labels of our data?"
   ]
  },
  {
   "cell_type": "code",
   "execution_count": null,
   "metadata": {},
   "outputs": [],
   "source": [
    "plt.clf()\n",
    "print(train_images.shape)\n",
    "print(train_images.dtype)\n",
    "print(train_labels.dtype)"
   ]
  },
  {
   "cell_type": "markdown",
   "metadata": {},
   "source": [
    "so it is 3D tensor of 60000 images each being 28× 28 pixels of unsigned 8 bit integers. And labels are also unsigned integers. Thus mnist.load_data() supplies data with structure (60000, 28, 28) i.e. with 2 dimensions per example representing a greyscale image 28x28. FNN does not adapt to images – it sees it as unstructured data- matrix of unrelated sample vectors for which it would expect separate lables. But we don't want it- this is one sample, so, we flatten (reshape) it into 1 dimensional vectors that have labels. This is the best we can do with feedforward network. We then select first 10000 images for validation and the remaining 500000 for tarining. We later will also use the test images for testing. Of course for classification we convert labels to categorical -so that they will be vectors to which softmax can compare probabilities when computing loss."
   ]
  },
  {
   "cell_type": "code",
   "execution_count": null,
   "metadata": {},
   "outputs": [],
   "source": [
    "train_images = train_images.reshape((60000, 28 * 28))\n",
    "partial_train_images = train_images[10000:]\n",
    "train_images_val = train_images[:10000]\n",
    "train_labels = to_categorical(train_labels)\n",
    "test_labels = to_categorical(test_labels)\n",
    "train_labels_val = train_labels[:10000]\n",
    "partial_train_labels=train_labels[10000:]"
   ]
  },
  {
   "cell_type": "markdown",
   "metadata": {},
   "source": [
    "## Using Shallow FF Network\n",
    "\n",
    "### Prepare Data\n",
    "We first convert unsigned 8 bit integers to float 32: normally we use 32-bit precision when training dense neural network on unrelated vectors: dense FF 'expects' real input for subsequent regression or classiication, so at one point or another the training data will have to be converted to 32 bit floats. Since the dataset fits easily in RAM, we might as well convert to float immediately. Why do we divide by 255? the input feature's type before the conversion to float32 is byte (unsigned integer 8). Maximum value of the byte is 255, so division by 255 ensures that the input features are normalized, i. e.  scaled between 0.0 and 1.0 which is natural float representation for grayscale figures."
   ]
  },
  {
   "cell_type": "code",
   "execution_count": null,
   "metadata": {},
   "outputs": [],
   "source": [
    "partial_train_images=partial_train_images.astype('float32')/255\n",
    "train_images_val = train_images_val.astype('float32')/255\n",
    "test_images = test_images.reshape((10000, 28 * 28))\n",
    "test_images = test_images.astype('float32') / 255"
   ]
  },
  {
   "cell_type": "markdown",
   "metadata": {},
   "source": [
    "Now we can create FF dense network as usual. Input shape is a vector (flattened $28\\times 28$ pixels). We do shallow network with 512 neurons because it doesn't make sense to try to discover features - we already killed them by flatening. So many layers won't help but just make it to dsciover non-existing relations. Now we can create FF dense network as usual. Input shape is a vector (flattened $28\\times 28$ pixels). Do we need shallow network or deep network?\n",
    "\n",
    "Very wide, shallow networks are very good at memorization, but not so good at generalization - they overfit because of many parameters they use. So, if we train the network with every possible input value, a super wide network could eventually memorize the corresponding output value that you want. But that's not always useful because for many practical application you won't have every possible input value to train with.\n",
    "\n",
    "The advantage of multiple layers is that they can learn features at various levels of abstraction. If we tarin network to classify data, we find that the first layer will train itself to recognize very basic features, the next layer train itself to recognize collections features, the next layer train itself to recognize aggregations of feature collections, and the next layer learns even higher-order 'shapes'. Multiple layers are much better at generalizing because they learn all the intermediate features between the raw data and the high-level classification.\n",
    "\n",
    "In our case we use shallow relatively wide network with 512 neurons because it doesn't make sense to try to discover features - we already killed them by flatening. So many layers won't help but just make it to dsciover non-existing relations. But our data set is very extensive we basically cover almost all possible variations of writing, hense wide network. You could experiment with even wider netwroks to see if it improves performance.\n",
    "\n",
    "    -Classifier layer is softmax with 10 outputs (classes); \n",
    "    -Gradient descent algorithm modification is rmsprop (always a safe choice, but may not be fastest – will discuss may lectures later)\n",
    "    - Loss is categorical crossentropy - as we have moore than 2 classes\n",
    "    - Metric that we’ll be watching during training is accuracy  "
   ]
  },
  {
   "cell_type": "code",
   "execution_count": null,
   "metadata": {},
   "outputs": [],
   "source": [
    "network = models.Sequential()\n",
    "network.add(layers.Dense(512, activation='relu', input_shape=(28 * 28,)))\n",
    "network.add(layers.Dense(10, activation='softmax'))\n",
    "network.compile(optimizer='rmsprop',\n",
    "loss='categorical_crossentropy',\n",
    "metrics=['accuracy'])"
   ]
  },
  {
   "cell_type": "markdown",
   "metadata": {},
   "source": [
    "We are ready to fit the model. Training arguments are input data, number of epochs, size of batch, i.e. it will be stochastic (randomly chosen) mini-batch of 228 images and validation data. It returns object with the same data fields as arguments plus sub-object history (history.history) where all the training data is recorded "
   ]
  },
  {
   "cell_type": "code",
   "execution_count": null,
   "metadata": {},
   "outputs": [],
   "source": [
    "history=network.fit(partial_train_images,\n",
    "                    partial_train_labels, epochs=5, batch_size=128,\n",
    "                    validation_data=(train_images_val, train_labels_val))"
   ]
  },
  {
   "cell_type": "markdown",
   "metadata": {},
   "source": [
    "History objects contains objects standard objects of loss: history.history.val_loss which contains loss on validation set at every epoch of training and history.hstory.loss which contains loss on training set at every epoch. Whatever parameters we are watching values on training and validation set will also be there. This time it is accuracy. The actual training results of this model are."
   ]
  },
  {
   "cell_type": "code",
   "execution_count": null,
   "metadata": {
    "scrolled": true
   },
   "outputs": [],
   "source": [
    "history_dict = history.history\n",
    "print(history_dict.keys())"
   ]
  },
  {
   "cell_type": "markdown",
   "metadata": {},
   "source": [
    "We can now plot results"
   ]
  },
  {
   "cell_type": "code",
   "execution_count": null,
   "metadata": {
    "scrolled": true
   },
   "outputs": [],
   "source": [
    "acc = history.history['accuracy']\n",
    "val_acc = history.history['val_accuracy']\n",
    "loss = history.history['loss']\n",
    "val_loss = history.history['val_loss']\n",
    "epochs = range(1, len(acc) + 1)\n",
    "# \"bo\" is for \"blue dot\"\n",
    "plt.plot(epochs, loss, 'bo', label='Training loss')\n",
    "# r is for \"solid blue line\"\n",
    "plt.plot(epochs, val_loss, 'r', label='Validation loss')\n",
    "plt.title('Training and validation loss')\n",
    "plt.xlabel('Epochs')\n",
    "plt.ylabel('Loss')\n",
    "plt.legend()\n",
    "plt.show()\n",
    "\n",
    "plt.clf()"
   ]
  },
  {
   "cell_type": "code",
   "execution_count": null,
   "metadata": {
    "scrolled": false
   },
   "outputs": [],
   "source": [
    "#b for blue, o for dots \n",
    "plt.plot(epochs, acc, 'bo', label='Training accuracy')\n",
    "# r is for \"solid blue line\"\n",
    "plt.plot(epochs, val_acc, 'r', label='Validation accuracy')\n",
    "plt.title('Training and validation loss')\n",
    "plt.xlabel('Epochs')\n",
    "plt.ylabel('Loss')\n",
    "plt.legend()\n",
    "plt.show()\n",
    "plt.clf()"
   ]
  },
  {
   "cell_type": "markdown",
   "metadata": {},
   "source": [
    "Finally lets see how the network performs on test data using evaluate method."
   ]
  },
  {
   "cell_type": "code",
   "execution_count": null,
   "metadata": {},
   "outputs": [],
   "source": [
    "test_loss, test_acc = network.evaluate(test_images, test_labels)\n",
    "print('test_acc:', test_acc)"
   ]
  },
  {
   "cell_type": "markdown",
   "metadata": {},
   "source": [
    "Not bad. But can we do better by using more specialized network thta is designed for images."
   ]
  },
  {
   "cell_type": "markdown",
   "metadata": {},
   "source": [
    "## Using Convolutional Network\n",
    "As seen above mnist.load_data() supplies the MNIST digits with structure (60000, 28, 28) i.e. with 2 dimensions per example representing a greyscale image 28x28. CNNs layers are adept in interpreting matrix data as we could see in theory. So this time we prepare data for convolutional layers that take 4 dimensional tensors with axes\n",
    "\n",
    "### Data preapration \n",
    "Convert MNIST data to 4-d tensors with axises:\n",
    "<ul>\n",
    "    <li>number of samples</li>\n",
    "    <li>Horizontal pixels dimension</li>\n",
    "    <li>Vertical pixels dimension</li>\n",
    "    <li>Number of color channel</li> \n",
    "</ul>\n",
    "So we reshape data and then separate training, validation and test data. We again convert dtype from byte to reals because convolution works with real numbers! We normalize the real numbers bbecause we want to work with the same range of data "
   ]
  },
  {
   "cell_type": "code",
   "execution_count": 3,
   "metadata": {},
   "outputs": [],
   "source": [
    "(train_images, train_labels), (test_images, test_labels) = mnist.load_data()\n",
    "train_images = train_images.reshape((60000, 28, 28, 1))\n",
    "train_images_val = train_images[:10000]\n",
    "partial_train_images = train_images[10000:]\n",
    "train_labels = to_categorical(train_labels)\n",
    "test_labels = to_categorical(test_labels)\n",
    "train_labels_val = train_labels[:10000]\n",
    "partial_train_labels=train_labels[10000:]\n",
    "train_images_val = train_images_val.astype('float32')/255\n",
    "partial_train_images=partial_train_images.astype('float32')/255\n",
    "test_images = test_images.reshape((10000, 28, 28, 1))\n",
    "test_images = test_images.astype('float32') / 255"
   ]
  },
  {
   "cell_type": "code",
   "execution_count": 4,
   "metadata": {
    "scrolled": true
   },
   "outputs": [
    {
     "name": "stdout",
     "output_type": "stream",
     "text": [
      "(50000, 28, 28, 1)\n",
      "(50000, 10)\n"
     ]
    }
   ],
   "source": [
    "print(partial_train_images.shape)\n",
    "print(partial_train_labels.shape)"
   ]
  },
  {
   "cell_type": "markdown",
   "metadata": {},
   "source": [
    "We now create Convolutional NN (CNN) model.It’s a stack of Conv2D and MaxPooling2D layers – 2 pairs that end with convolutional layer. Each layer has activation ReLU. The output of every Conv2D and MaxPooling2D layer is a 3D tensor of shape (height, width, channels). The width and height dimensions shrink with application of filters. The number of channels (filters in the layer) is controlled by the first argument passed to the Conv2D layers (32 or 64,...) which gives you the idea of the number of trainable parameters: for each filter there is filter size\\times filter size trainable weights, further multiplead by the numbe rof channels give you the number of trainable weights in the network.\n",
    "\n",
    "So what are all the other parameters of the calls (and layers) here?\n",
    "<ul>\n",
    "    <li>In convolutional layer second argument specifies the filter size that is in use,</li>\n",
    "    <li> the third argument specifies the shape of the input</li>\n",
    "    <li> there are more argument that we do not set here, so they are set to default here:\n",
    "    <ul>\n",
    "        <li> we could initilize filter (kernel) weights matrix</li>\n",
    "        <li>we could initialize bias</li>\n",
    "        <li>we could 'sample' the output of a layer before feeding it further - this is called stride (later).</li>\n",
    "        <li> we could specify padding</li>\n",
    "    </ul>\n",
    "    </li>\n",
    "    <li>In MaxPooling2D layer area the argument is the size of the pool (square) from which max value (max-pooling!) is pooled out. The width and height dimensions shrink with application of pooling</li> \n",
    "    <li>The output of every Conv2D and MaxPooling2D layer is a 3D tensor of shape (height, width, channels)</li>\n",
    "<ul>\n",
    "Main mistery is why 32 kernels and how they are/should be initialized. Here are these and other defaults: \n",
    "<ul>\n",
    "    <li>channels’ are number of different krnels (filters) applied to the picture, e.g. 32 means 32 different filters are run over the picture. It depends on expected numbers of features you expect to aggregate. Typical sized are 32 to 512 with the step of 32. If the picture doesn't have too many features (as in our case) you would expect to have narrow channel layers.</li>\n",
    "    <li>In Conv2D we can specify how to initialize filters but if you do not specify initialization, then they are initialized uniformly at random</li>\n",
    "    <li>Bias is by defauls initialized to 0</li>\n",
    "    <li>Padding can be specified  as \"valid\" or \"same\"; \"valid\" means no padding, \"same\" results in padding with zeros evenly to the left/right or up/down of the input. Default is the \"same\". \n",
    "     <li>Stride is the step of the kernel application. It is a tuple of 2 integers, specifying the step of the convolution filter application along the height and width. Default is 1. When padding=\"same\" and strides=1, the output has the same size as the input.</li>\n",
    "</ul>\n"
   ]
  },
  {
   "cell_type": "code",
   "execution_count": 5,
   "metadata": {},
   "outputs": [],
   "source": [
    "cnn = models.Sequential()\n",
    "cnn.add(layers.Conv2D(32, (3, 3), activation='relu', input_shape=(28, 28, 1)))\n",
    "cnn.add(layers.MaxPooling2D((2, 2)))\n",
    "cnn.add(layers.Conv2D(64, (3, 3), activation='relu'))\n",
    "cnn.add(layers.MaxPooling2D((2, 2)))\n",
    "cnn.add(layers.Conv2D(64, (3, 3), activation='relu'))"
   ]
  },
  {
   "cell_type": "markdown",
   "metadata": {},
   "source": [
    "The last layer of the netwrok is the deicison layer (softmax) that takes a vector as input so even if we feed the softmax directly from convolutional layer we would reshape (flatten) the input. Yet we don't do that right away. Instead after CNN layers we feed results into dense layers. Why insert dense layer between flattening and decision layer? The answer is because we want to couple information that exists from different channels. The dense Layer uses a ReLU activation meaning, that every pre-activation is a linear combination of EVERY output of neurons of a previous convolutional layer. That is, we \"force\" dense layer to aggregate features discovered by kernels convolutional layers by combining their outputs and we let the dense NN to learn the relation of kernel outputs netween them. As a result, there appear $n\\times m \\times k$ connections (or weights) where $k$ denotes the number of filters in last convolutional layer and $m\\times n$ dimension of a matrix of last convolutional layer denotes to each of the 'dense' neurons that aggregate features obtained from different kernels of last convolutional layer in different ways. In other words, if the preceding convolutional layer outputs a $m\\times n$ matrix for each of $k$ channels then the vector of size $m\\times n \\times k$ is weighted by dense layer, essentially doing multiple linear regressions on its inputs to predict final values of features used for classification. All neurons in dense layer are needed because they are are initialized differently which means that they catch different features fed from convolutional layer. \n",
    "\n",
    "The last layer is classification with sotmax that has 10 classes and dense input (all 64 previous neurons are connected to softmax. "
   ]
  },
  {
   "cell_type": "code",
   "execution_count": 6,
   "metadata": {},
   "outputs": [
    {
     "name": "stdout",
     "output_type": "stream",
     "text": [
      "Model: \"sequential_1\"\n",
      "_________________________________________________________________\n",
      "Layer (type)                 Output Shape              Param #   \n",
      "=================================================================\n",
      "conv2d_1 (Conv2D)            (None, 26, 26, 32)        320       \n",
      "_________________________________________________________________\n",
      "max_pooling2d_1 (MaxPooling2 (None, 13, 13, 32)        0         \n",
      "_________________________________________________________________\n",
      "conv2d_2 (Conv2D)            (None, 11, 11, 64)        18496     \n",
      "_________________________________________________________________\n",
      "max_pooling2d_2 (MaxPooling2 (None, 5, 5, 64)          0         \n",
      "_________________________________________________________________\n",
      "conv2d_3 (Conv2D)            (None, 3, 3, 64)          36928     \n",
      "_________________________________________________________________\n",
      "flatten_1 (Flatten)          (None, 576)               0         \n",
      "_________________________________________________________________\n",
      "dense_1 (Dense)              (None, 64)                36928     \n",
      "_________________________________________________________________\n",
      "dense_2 (Dense)              (None, 10)                650       \n",
      "=================================================================\n",
      "Total params: 93,322\n",
      "Trainable params: 93,322\n",
      "Non-trainable params: 0\n",
      "_________________________________________________________________\n",
      "None\n"
     ]
    }
   ],
   "source": [
    "cnn.add(layers.Flatten())\n",
    "cnn.add(layers.Dense(64, activation='relu'))\n",
    "cnn.add(layers.Dense(10, activation='softmax'))\n",
    "print(cnn.summary())\n",
    "cnn.compile(optimizer='rmsprop',\n",
    "loss='categorical_crossentropy',\n",
    "metrics=['accuracy'])"
   ]
  },
  {
   "cell_type": "markdown",
   "metadata": {},
   "source": [
    "As we see with each layer area of coverage of each channel is aggregated, so true window grows to  last convolutional layer output the result of convolutions on a picture split into 9 ($3\\times 3$) regions. Thus the first conv layer learns very small features, second learns somewhat aggregated features and last learn the biggest combination. The number of parameters though gwos exponentially fast with adding layers! \n",
    "\n",
    "Now train:"
   ]
  },
  {
   "cell_type": "code",
   "execution_count": 7,
   "metadata": {
    "scrolled": true
   },
   "outputs": [
    {
     "name": "stdout",
     "output_type": "stream",
     "text": [
      "Train on 50000 samples, validate on 10000 samples\n",
      "Epoch 1/5\n",
      "50000/50000 [==============================] - 23s 460us/step - loss: 0.1985 - accuracy: 0.9371 - val_loss: 0.0887 - val_accuracy: 0.9757\n",
      "Epoch 2/5\n",
      "50000/50000 [==============================] - 24s 472us/step - loss: 0.0508 - accuracy: 0.9844 - val_loss: 0.0494 - val_accuracy: 0.9849\n",
      "Epoch 3/5\n",
      "50000/50000 [==============================] - 23s 459us/step - loss: 0.0348 - accuracy: 0.9887 - val_loss: 0.0435 - val_accuracy: 0.9883\n",
      "Epoch 4/5\n",
      "50000/50000 [==============================] - 22s 439us/step - loss: 0.0259 - accuracy: 0.9920 - val_loss: 0.0456 - val_accuracy: 0.9871\n",
      "Epoch 5/5\n",
      "50000/50000 [==============================] - 23s 465us/step - loss: 0.0211 - accuracy: 0.9935 - val_loss: 0.0520 - val_accuracy: 0.9881\n"
     ]
    }
   ],
   "source": [
    "history=cnn.fit(partial_train_images,\n",
    "                    partial_train_labels, epochs=5, batch_size=64,\n",
    "                    validation_data=(train_images_val, train_labels_val))"
   ]
  },
  {
   "cell_type": "markdown",
   "metadata": {},
   "source": [
    "And plot:"
   ]
  },
  {
   "cell_type": "code",
   "execution_count": 11,
   "metadata": {
    "scrolled": true
   },
   "outputs": [
    {
     "data": {
      "image/png": "[encoded data removed]",
      "text/plain": [
       "<Figure size 432x288 with 2 Axes>"
      ]
     },
     "metadata": {
      "needs_background": "light"
     },
     "output_type": "display_data"
    },
    {
     "data": {
      "text/plain": [
       "<Figure size 432x288 with 0 Axes>"
      ]
     },
     "metadata": {},
     "output_type": "display_data"
    }
   ],
   "source": [
    "acc = history.history['accuracy']\n",
    "val_acc = history.history['val_accuracy']\n",
    "loss = history.history['loss']\n",
    "val_loss = history.history['val_loss']\n",
    "epochs = range(1, len(acc) + 1)\n",
    "# \"bo\" is for \"blue dot\"\n",
    "#plt.figure(1)\n",
    "fig,axis = plt.subplots(nrows=2, ncols=1)\n",
    "fig.tight_layout()\n",
    "plt.subplot(211)\n",
    "plt.plot(epochs, loss, 'bo', label='Training loss')\n",
    "# b is for \"solid blue line\"\n",
    "plt.plot(epochs, val_loss, 'r', label='Validation loss')\n",
    "plt.title('Training and validation loss')\n",
    "plt.xlabel('Epochs')\n",
    "plt.ylabel('Loss')\n",
    "plt.legend()\n",
    "plt.xticks([])\n",
    "plt.yticks([])\n",
    "plt.subplot(212)\n",
    "plt.plot(epochs, acc, 'ro', label='Training acc')\n",
    "plt.plot(epochs, val_acc, 'g', label='Validation acc')\n",
    "plt.title('Training and validation accuracy')\n",
    "plt.xlabel('Epochs')\n",
    "plt.ylabel('Loss')\n",
    "plt.legend()\n",
    "plt.show()\n",
    "plt.clf()"
   ]
  },
  {
   "cell_type": "markdown",
   "metadata": {},
   "source": [
    "Finally check testing accuracy"
   ]
  },
  {
   "cell_type": "code",
   "execution_count": null,
   "metadata": {},
   "outputs": [],
   "source": [
    "test_loss, test_acc = cnn.evaluate(test_images, test_labels)\n",
    "print('test_acc:', test_acc)"
   ]
  }
 ],
 "metadata": {
  "kernelspec": {
   "display_name": "Python [conda env:my_tf]",
   "language": "python",
   "name": "conda-env-my_tf-py"
  },
  "language_info": {
   "codemirror_mode": {
    "name": "ipython",
    "version": 3
   },
   "file_extension": ".py",
   "mimetype": "text/x-python",
   "name": "python",
   "nbconvert_exporter": "python",
   "pygments_lexer": "ipython3",
   "version": "3.7.9"
  }
 },
 "nbformat": 4,
 "nbformat_minor": 4
}
